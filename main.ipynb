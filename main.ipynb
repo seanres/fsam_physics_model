{
 "cells": [
  {
   "cell_type": "code",
   "execution_count": 1,
   "metadata": {},
   "outputs": [],
   "source": [
    "from fsam_physics_model import calculate_spindle_speed_given_deposition_temperature, calculate_normal_force\n",
    "from parameters import get_model_parameters\n",
    "import numpy as np"
   ]
  },
  {
   "cell_type": "code",
   "execution_count": 2,
   "metadata": {},
   "outputs": [],
   "source": [
    "temperature_deposition_array = [250, 300, 350, 400, 450]\n",
    "thermal_conductivity_array = [179, 172.5, 164, 155.5, 152.5]"
   ]
  },
  {
   "cell_type": "code",
   "execution_count": 3,
   "metadata": {},
   "outputs": [
    {
     "name": "stdout",
     "output_type": "stream",
     "text": [
      "Tool diameter: 9.525mm\n",
      "Feedstock side length: 3.175mm\n",
      "Layer thickness: 0.5mm\n",
      "\n",
      "Spindle speed: 1856.80 rpm    Depostition temperature: 250°C \n",
      "Spindle speed: 2408.88 rpm    Depostition temperature: 300°C \n",
      "Spindle speed: 3062.29 rpm    Depostition temperature: 350°C \n",
      "Spindle speed: 3912.21 rpm    Depostition temperature: 400°C \n",
      "Spindle speed: 5295.14 rpm    Depostition temperature: 450°C \n"
     ]
    }
   ],
   "source": [
    "model_parameters = get_model_parameters('mini')\n",
    "for i in range(len(temperature_deposition_array)):\n",
    "  model_parameters['temperature_deposition'] = temperature_deposition_array[i]\n",
    "  model_parameters['thermal_conductivity'] = thermal_conductivity_array[i]\n",
    "  spindle_speed = calculate_spindle_speed_given_deposition_temperature(model_parameters)\n",
    "  print(f'Spindle speed: {spindle_speed:.2f} rpm    Depostition temperature: {temperature_deposition_array[i]}°C ')"
   ]
  },
  {
   "cell_type": "code",
   "execution_count": 4,
   "metadata": {},
   "outputs": [
    {
     "data": {
      "text/plain": [
       "250.0"
      ]
     },
     "execution_count": 4,
     "metadata": {},
     "output_type": "execute_result"
    }
   ],
   "source": [
    "calculate_normal_force(np.pi*(model_parameters['tool_diameter']/2)**2)"
   ]
  }
 ],
 "metadata": {
  "kernelspec": {
   "display_name": "fsam",
   "language": "python",
   "name": "python3"
  },
  "language_info": {
   "codemirror_mode": {
    "name": "ipython",
    "version": 3
   },
   "file_extension": ".py",
   "mimetype": "text/x-python",
   "name": "python",
   "nbconvert_exporter": "python",
   "pygments_lexer": "ipython3",
   "version": "3.10.4"
  }
 },
 "nbformat": 4,
 "nbformat_minor": 2
}
